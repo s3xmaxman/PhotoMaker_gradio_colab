{
  "cells": [
    {
      "cell_type": "code",
      "source": [
        "!git clone https://github.com/TencentARC/PhotoMaker.git\n",
        "%cd PhotoMaker\n",
        "!pip install -r requirements.txt\n",
        "!pip install diffusers==0.29.2 accelerate einops onnxruntime-gpu omegaconf gradio\n",
        "!pip install -q torch==2.0.1+cu118 torchvision==0.15.2+cu118 torchaudio==2.0.2+cu118 torchtext==0.15.2 torchdata==0.6.1 --extra-index-url https://download.pytorch.org/whl/cu118 -U\n",
        "!pip install git+https://github.com/TencentARC/PhotoMaker.git"
      ],
      "metadata": {
        "id": "m-EaNhrb4PAc"
      },
      "execution_count": null,
      "outputs": []
    },
    {
      "cell_type": "code",
      "source": [
        "\n",
        "file_path = '/content/PhotoMaker/gradio_demo/app_v2.py'\n",
        "\n",
        "\n",
        "with open(file_path, 'r') as file:\n",
        "    content = file.read()\n",
        "\n",
        "\n",
        "updated_content = content.replace(\"demo.launch()\", \"demo.launch(share=True)\")\n",
        "\n",
        "\n",
        "with open(file_path, 'w') as file:\n",
        "    file.write(updated_content)"
      ],
      "metadata": {
        "id": "b8r1O2hy4Re3"
      },
      "execution_count": null,
      "outputs": []
    },
    {
      "cell_type": "code",
      "source": [
        "!python gradio_demo/app_v2.py"
      ],
      "metadata": {
        "id": "WZ2EUjkl9gNL"
      },
      "execution_count": null,
      "outputs": []
    }
  ],
  "metadata": {
    "accelerator": "GPU",
    "colab": {
      "gpuType": "T4",
      "provenance": []
    },
    "kernelspec": {
      "display_name": "Python 3",
      "name": "python3"
    },
    "language_info": {
      "name": "python"
    }
  },
  "nbformat": 4,
  "nbformat_minor": 0
}